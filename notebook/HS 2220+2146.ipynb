{
 "metadata": {
  "name": "",
  "signature": "sha256:daa98b07d9155e6c91ed64584fa92e775dfa96bdf6d98c5e1541c10b67e110d2"
 },
 "nbformat": 3,
 "nbformat_minor": 0,
 "worksheets": [
  {
   "cells": [
    {
     "cell_type": "heading",
     "level": 1,
     "metadata": {},
     "source": [
      "The post-blue straggler binary HS2220+2146"
     ]
    },
    {
     "cell_type": "heading",
     "level": 3,
     "metadata": {},
     "source": [
      "First, let's load up packages, and data from MESA"
     ]
    },
    {
     "cell_type": "code",
     "collapsed": false,
     "input": [
      "import os\n",
      "from scipy.interpolate import interp1d\n",
      "from scipy.interpolate import interp2d\n",
      "import matplotlib.pyplot as plt\n",
      "from matplotlib import dates\n",
      "import numpy as np\n",
      "from numpy.random import normal\n",
      "import datetime\n",
      "%matplotlib inline\n",
      "\n",
      "\n",
      "# Import MESA lifetimes\n",
      "datafile = os.path.abspath(\"../data/MESA_lifetime.dat\")\n",
      "names = [\"name\",\"lifetime\"]\n",
      "MESA_tcool = np.genfromtxt(datafile, dtype=None, usecols=range(len(names)), names=names)\n",
      "\n",
      "# Move to log10 of stellar ages\n",
      "MESA_tcool[\"lifetime\"] = np.log10(MESA_tcool[\"lifetime\"])\n",
      "\n",
      "func_lifetime = interp1d(MESA_tcool[\"name\"],pow(10.,MESA_tcool[\"lifetime\"]), kind='linear', bounds_error=False, fill_value=1.0e7)\n",
      "func_lifetime_inv = interp1d(pow(10.,MESA_tcool[\"lifetime\"][::-1]),MESA_tcool[\"name\"][::-1], kind='linear', bounds_error=False, fill_value = 0.45)"
     ],
     "language": "python",
     "metadata": {},
     "outputs": [],
     "prompt_number": 1
    },
    {
     "cell_type": "heading",
     "level": 3,
     "metadata": {},
     "source": [
      "Next, let's define an initial-final mass relation"
     ]
    },
    {
     "cell_type": "code",
     "collapsed": false,
     "input": [
      "def IFMR_williams_inverse(M_wd):\n",
      "    # M_f = 0.339+-0.015 + (0.129+-0.004)M_i\n",
      "    return (M_wd - 0.339) / 0.129\n",
      "\n",
      "def IFMR_williams(M_zams):\n",
      "    # M_f = 0.339+-0.015 + (0.129+-0.004)M_i\n",
      "    return 0.129 * M_zams + 0.339\n"
     ],
     "language": "python",
     "metadata": {},
     "outputs": [],
     "prompt_number": 2
    },
    {
     "cell_type": "heading",
     "level": 3,
     "metadata": {},
     "source": [
      "Now, we can add the data for the system at hand, HS 2220+2146"
     ]
    },
    {
     "cell_type": "code",
     "collapsed": false,
     "input": [
      "# Data from spectra\n",
      "M_wd_A = 0.702\n",
      "M_wd_A_err = 0.022\n",
      "M_wd_B = 0.837\n",
      "M_wd_B_err = 0.022\n",
      "\n",
      "t_cool_A = 289.0\n",
      "t_cool_A_err = 22.0\n",
      "t_cool_B = 179.0\n",
      "t_cool_B_err = 14.0\n",
      "\n",
      "# Derived quantities\n",
      "M_zams_A = IFMR_williams_inverse(M_wd_A)\n",
      "M_zams_B = IFMR_williams_inverse(M_wd_B)\n",
      "\n",
      "print \"Initial mass of WD A: \", M_zams_A\n",
      "print \"Initial mass of WD B: \", M_zams_B\n",
      "\n",
      "t_pre_wd_A = func_lifetime(M_zams_A)\n",
      "t_pre_wd_B = func_lifetime(M_zams_B)\n",
      "\n",
      "print \"Pre-WD lifetime for WD A: \", t_pre_wd_A/1.0e6\n",
      "print \"Pre-WD lifetime for WD B: \", t_pre_wd_B/1.0e6\n",
      "\n",
      "print \"Total system age for WD A: \", t_pre_wd_A/1.0e6 + t_cool_A\n",
      "print \"Total system age for WD B: \", t_pre_wd_B/1.0e6 + t_cool_B"
     ],
     "language": "python",
     "metadata": {},
     "outputs": [
      {
       "output_type": "stream",
       "stream": "stdout",
       "text": [
        "Initial mass of WD A:  2.81395348837\n",
        "Initial mass of WD B:  3.86046511628\n",
        "Pre-WD lifetime for WD A:  586.923439487\n",
        "Pre-WD lifetime for WD B:  231.031881168\n",
        "Total system age for WD A:  875.923439487\n",
        "Total system age for WD B:  410.031881168\n"
       ]
      }
     ],
     "prompt_number": 3
    },
    {
     "cell_type": "markdown",
     "metadata": {},
     "source": [
      "Clearly, the system ages are incompatible, even considering uncertainties on these measurements, and an uncertain IFMR. If we, however, consider the more massive WD as the result of the evolution of a blue straggler, then we can find the ages compatible. In this case, the less massive WD sets the age of the system at ~924 Myr. Let's see how this could work."
     ]
    },
    {
     "cell_type": "code",
     "collapsed": false,
     "input": [
      "print \"Initial mass of WD B: \", M_zams_B"
     ],
     "language": "python",
     "metadata": {},
     "outputs": [
      {
       "output_type": "stream",
       "stream": "stdout",
       "text": [
        "Initial mass of WD B:  3.86046511628\n"
       ]
      }
     ],
     "prompt_number": 4
    },
    {
     "cell_type": "heading",
     "level": 3,
     "metadata": {},
     "source": [
      "Using the system age derived from WD A, we can determine the pre-WD lifetime for WD B"
     ]
    },
    {
     "cell_type": "code",
     "collapsed": false,
     "input": [
      "print \"WD B pre-WD lifetime: \", t_pre_wd_A/1.0e6 + t_cool_A - t_cool_B"
     ],
     "language": "python",
     "metadata": {},
     "outputs": [
      {
       "output_type": "stream",
       "stream": "stdout",
       "text": [
        "WD B pre-WD lifetime:  696.923439487\n"
       ]
      }
     ],
     "prompt_number": 5
    },
    {
     "cell_type": "heading",
     "level": 3,
     "metadata": {},
     "source": [
      "Next, we can determine the pre-WD lifetime of a 3.86 Msun star"
     ]
    },
    {
     "cell_type": "code",
     "collapsed": false,
     "input": [
      "print \"3.86 Msun star pre-WD lifetime: \", func_lifetime(3.86)/1.0e6"
     ],
     "language": "python",
     "metadata": {},
     "outputs": [
      {
       "output_type": "stream",
       "stream": "stdout",
       "text": [
        "3.86 Msun star pre-WD lifetime:  231.104422148\n"
       ]
      }
     ],
     "prompt_number": 6
    },
    {
     "cell_type": "heading",
     "level": 3,
     "metadata": {},
     "source": [
      "Now we can determine how long it took for the inner binary to merge after its initial formation"
     ]
    },
    {
     "cell_type": "code",
     "collapsed": false,
     "input": [
      "print \"Star B pre-merger time: \", t_pre_wd_A/1.0e6 + t_cool_A - t_cool_B - func_lifetime(3.86)/1.0e6"
     ],
     "language": "python",
     "metadata": {},
     "outputs": [
      {
       "output_type": "stream",
       "stream": "stdout",
       "text": [
        "Star B pre-merger time:  465.819017339\n"
       ]
      }
     ],
     "prompt_number": 7
    },
    {
     "cell_type": "markdown",
     "metadata": {},
     "source": [
      "In this theory, WD B, began as two separate stars of roughly 1.9 Msun each, then merged within 466 Myr, forming a 3.86 Msun star. After another ~100 Myr, Star A evolved into a WD, expanding the orbit. Another ~125 Myr later, Star B, the more massive in the pair evolved into a WD. We now see the system as a wide double white dwarf, some ~175 Myr after the system formed."
     ]
    },
    {
     "cell_type": "heading",
     "level": 3,
     "metadata": {},
     "source": [
      "Just to check, lets see how massive the stars in the inner binary could be such that they did not evolve into WDs in the first 4 Myrs"
     ]
    },
    {
     "cell_type": "code",
     "collapsed": false,
     "input": [
      "print \"Mass of a star with a lifetime of 466 Myr: \", func_lifetime_inv(466.0*1.0e6)"
     ],
     "language": "python",
     "metadata": {},
     "outputs": [
      {
       "output_type": "stream",
       "stream": "stdout",
       "text": [
        "Mass of a star with a lifetime of 466 Myr:  3.04178339306\n"
       ]
      }
     ],
     "prompt_number": 8
    },
    {
     "cell_type": "heading",
     "level": 3,
     "metadata": {},
     "source": [
      "Now, let's determine the projected angular separation of the binary"
     ]
    },
    {
     "cell_type": "code",
     "collapsed": false,
     "input": [
      "from astropy import coordinates as coord\n",
      "from astropy import units as u\n",
      "from astropy import constants as const\n",
      "\n",
      "# Distance to pair\n",
      "dist_wd_A = 79*u.pc\n",
      "dist_wd_B = 73*u.pc\n",
      "\n",
      "# Use average as the distance to the pair\n",
      "dist_pair = (dist_wd_A + dist_wd_B) / 2.0\n",
      "\n",
      "A_coor = coord.SkyCoord('22h23m01.74s', '+22d01m25.0s', distance=dist_pair)\n",
      "B_coor = coord.SkyCoord('22h23m01.64s', '+22d01m31.0s', distance=dist_pair)\n",
      "\n",
      "# Angular distance\n",
      "theta = A_coor.separation(B_coor)\n",
      "\n",
      "# Projected distance\n",
      "sep_proj = A_coor.separation_3d(B_coor)\n",
      "\n",
      "print \"Angular separation: \", theta\n",
      "print \"Projected separation:\", sep_proj.AU, \"AU\""
     ],
     "language": "python",
     "metadata": {},
     "outputs": [
      {
       "output_type": "stream",
       "stream": "stdout",
       "text": [
        "Angular separation:  0d00m06.159s\n",
        "Projected separation: 468.085907421 AU\n"
       ]
      }
     ],
     "prompt_number": 9
    },
    {
     "cell_type": "heading",
     "level": 3,
     "metadata": {},
     "source": [
      "Next, we can find the minimum orbital period, assuming a circular, face-on orbit"
     ]
    },
    {
     "cell_type": "code",
     "collapsed": false,
     "input": [
      "M_tot = (M_wd_A + M_wd_B)*u.solMass\n",
      "\n",
      "P_orb = 2.0*np.pi * np.sqrt(sep_proj*sep_proj*sep_proj / (const.G * M_tot)).decompose()\n",
      "\n",
      "print P_orb.to(u.yr)"
     ],
     "language": "python",
     "metadata": {},
     "outputs": [
      {
       "output_type": "stream",
       "stream": "stdout",
       "text": [
        "8162.38084723 yr\n"
       ]
      }
     ],
     "prompt_number": 10
    },
    {
     "cell_type": "heading",
     "level": 3,
     "metadata": {},
     "source": [
      "Now, let's work backwards to estimate the separation of the outer binary when the inner binary merged"
     ]
    },
    {
     "cell_type": "code",
     "collapsed": false,
     "input": [
      "# Assuming Jeans mode mass loss\n",
      "\n",
      "# A (M_1 + M_2) = const.\n",
      "\n",
      "sep_proj_min = sep_proj * (M_wd_A + M_wd_B) / (M_wd_A + 3.86)\n",
      "print \"Minimum separation at merger:\", sep_proj_min.AU, \"AU\"\n",
      "\n",
      "# What was the orbital period at this time\n",
      "M_tot_init = (M_zams_A + M_zams_B)*u.solMass\n",
      "P_orb = 2.0*np.pi * np.sqrt(sep_proj_min*sep_proj_min*sep_proj_min / (const.G * M_tot_init)).decompose()\n",
      "print \"Orbital period at this time:\", P_orb.to(u.yr)\n",
      "\n",
      "# What about the orbital separation at birth\n",
      "sep_proj_mid = sep_proj * (M_wd_A + M_wd_B) / (M_zams_A + M_zams_B)\n",
      "print \"Orbital separation at birth:\", sep_proj_mid.AU, \"AU\"\n",
      "M_tot_mid = (M_wd_A + M_zams_B)*u.solMass\n",
      "P_orb_mid = 2.0*np.pi * np.sqrt(sep_proj_mid*sep_proj_mid*sep_proj_mid / (const.G * M_tot_init)).decompose()\n",
      "print \"Orbital period at this time:\", P_orb.to(u.yr)\n",
      "\n"
     ],
     "language": "python",
     "metadata": {},
     "outputs": [
      {
       "output_type": "stream",
       "stream": "stdout",
       "text": [
        "Minimum separation at merger: 157.909735099 AU\n",
        "Orbital period at this time: 767.988032069 yr\n",
        "Orbital separation at birth: 107.932129252 AU\n",
        "Orbital period at this time: 767.988032069 yr\n"
       ]
      }
     ],
     "prompt_number": 11
    },
    {
     "cell_type": "heading",
     "level": 3,
     "metadata": {},
     "source": [
      "Now, let's determine the quadrupolar timescale of the original, hierarchical triple"
     ]
    },
    {
     "cell_type": "code",
     "collapsed": false,
     "input": [
      "A_1 = 1.0 * u.AU\n",
      "A_2 = 110.0 * u.AU\n",
      "\n",
      "def get_t_quad(A_1, A_2):\n",
      "    t_quad = 2. * np.pi * (A_2**3) * (1-0.1**2)**(1.5) * np.sqrt(M_zams_B * u.solMass) / (A_1**(1.5) * (M_zams_A*u.solMass) * np.sqrt(const.G))\n",
      "    return t_quad\n",
      "    \n",
      "print get_t_quad(A_1, A_2).decompose().to(u.Myr)\n",
      "#print t_quad.decompose().to(u.Myr)\n",
      "P_orb_quad = 2.0*np.pi * np.sqrt(A_2**3 / (const.G * M_tot_init)).decompose()\n",
      "print P_orb_quad.to(u.yr)"
     ],
     "language": "python",
     "metadata": {},
     "outputs": [
      {
       "output_type": "stream",
       "stream": "stdout",
       "text": [
        "0.915338151478 Myr\n",
        "446.508902743 yr\n"
       ]
      }
     ],
     "prompt_number": 12
    },
    {
     "cell_type": "code",
     "collapsed": false,
     "input": [
      "xmin = -80.0\n",
      "xmax = 500.0\n",
      "ymin = 1.0e-3\n",
      "ymax = 1.0e4\n",
      "\n",
      "ran_A = np.linspace(50.0, 500.0, 100) * u.AU\n",
      "\n",
      "\n",
      "A_1 = 0.1 * u.AU\n",
      "ran_t = get_t_quad(A_1, ran_A)\n",
      "plt.plot(ran_A, ran_t.to(u.yr)/1.0e6, color='k')\n",
      "plt.text(300.0, 1.3e3, r'$A_1 =\\ 0.1\\ {\\rm AU}$')\n",
      "\n",
      "A_1 = 1.0 * u.AU\n",
      "ran_t = get_t_quad(A_1, ran_A)\n",
      "plt.plot(ran_A, ran_t.to(u.yr)/1.0e6, color='k')\n",
      "plt.text(300.0, 4.0e1, r'$A_1 =\\ 1\\ {\\rm AU}$')\n",
      "\n",
      "A_1 = 10.0 * u.AU\n",
      "ran_t = get_t_quad(A_1, ran_A)\n",
      "plt.plot(ran_A, ran_t.to(u.yr)/1.0e6, color='k')\n",
      "plt.text(300.0, 1.3e0, r'$A_1 =\\ 10\\ {\\rm AU}$')\n",
      "\n",
      "\n",
      "# To mark off 1/5th and 1/100th of the calculated merger time of 475 Myr\n",
      "plt.axhline(475.0/5.0, linestyle='--', color='k')\n",
      "plt.axhline(475.0/100.0, linestyle='--', color='k')\n",
      "plt.text(-60.0, 475.0/5.0+75.0, r'$\\frac{1}{5}$ $t_{\\rm merge}$', size=16)\n",
      "plt.text(-60.0, 1.5, r'$\\frac{1}{100}$ $t_{\\rm merge}$', size=16)\n",
      "plt.fill([xmin, xmax, xmax, xmin],[475.0/100.0, 475.0/100.0, 475.0/5.0, 475.0/5.0], color='k', alpha=0.1)\n",
      "\n",
      "plt.xlim(xmin, xmax)\n",
      "plt.ylim(ymin, ymax)\n",
      "\n",
      "plt.xlabel(r'$A_2$ ${\\rm (AU)}$', size=16)\n",
      "plt.ylabel(r'$t_{\\rm quad}$ ${\\rm (Myr)}$', size=16)\n",
      "plt.yscale('log')\n",
      "\n",
      "plt.tight_layout()\n",
      "plt.gcf().subplots_adjust(bottom=0.13, left=0.12)\n",
      "\n",
      "plt.savefig('../figures/t_quad.pdf')\n",
      "#plt.show()"
     ],
     "language": "python",
     "metadata": {},
     "outputs": [
      {
       "metadata": {},
       "output_type": "display_data",
       "png": "[encoded data removed]",
       "text": [
        "<matplotlib.figure.Figure at 0x10d12a790>"
       ]
      }
     ],
     "prompt_number": 13
    },
    {
     "cell_type": "code",
     "collapsed": false,
     "input": [],
     "language": "python",
     "metadata": {},
     "outputs": [],
     "prompt_number": 13
    },
    {
     "cell_type": "heading",
     "level": 3,
     "metadata": {},
     "source": [
      "Let's load up the FLWO observations"
     ]
    },
    {
     "cell_type": "code",
     "collapsed": false,
     "input": [
      "# Import MESA lifetimes\n",
      "datafile_A = os.path.abspath(\"../data/FLWO_A.dat\")\n",
      "datafile_B = os.path.abspath(\"../data/FLWO_B.dat\")\n",
      "names = [\"time\",\"rv\",\"rv_err\"]\n",
      "FLWO_A = np.genfromtxt(datafile_A, dtype=None, usecols=(0,1,2), names=names)\n",
      "FLWO_B = np.genfromtxt(datafile_B, dtype=None, usecols=(0,1,2), names=names)\n",
      "\n",
      "# Adjust time to Julian Date\n",
      "FLWO_A[\"time\"] = FLWO_A[\"time\"] + 2450000.0\n",
      "FLWO_B[\"time\"] = FLWO_B[\"time\"] + 2450000.0"
     ],
     "language": "python",
     "metadata": {},
     "outputs": [],
     "prompt_number": 14
    },
    {
     "cell_type": "code",
     "collapsed": false,
     "input": [
      "f,(ax1,ax2) = plt.subplots(1,2,sharey=True)\n",
      "\n",
      "\n",
      "\n",
      "# July 11th\n",
      "ax1.errorbar((FLWO_A[\"time\"] - 2457215.0)*24.0 - 12.0, FLWO_A[\"rv\"], yerr=FLWO_A[\"rv_err\"], fmt='o', color='b')\n",
      "ax1.errorbar((FLWO_B[\"time\"] - 2457215.0)*24.0 - 12.0, FLWO_B[\"rv\"], yerr=FLWO_B[\"rv_err\"], fmt='o', color='r')\n",
      "ax1.set_xlim(6.0, 11.0)\n",
      "ax1.set_xticks(np.arange(6.0,11.0, 2.0))\n",
      "ax1.yaxis.tick_left()\n",
      "\n",
      "new_ticks = np.array([])\n",
      "tick = ax1.get_xticks().tolist()\n",
      "for a in tick:\n",
      "    a = str(int(a))+':00 pm'\n",
      "    new_ticks = np.append(new_ticks, a)\n",
      "\n",
      "ax1.set_xticklabels(new_ticks)\n",
      "\n",
      "\n",
      "\n",
      "\n",
      "# July 20th\n",
      "ax2.errorbar((FLWO_A[\"time\"] - 2457224.0)*24.0 - 12.0, FLWO_A[\"rv\"], yerr=FLWO_A[\"rv_err\"], fmt='o', color='b')\n",
      "ax2.errorbar((FLWO_B[\"time\"] - 2457224.0)*24.0 - 12.0, FLWO_B[\"rv\"], yerr=FLWO_B[\"rv_err\"], fmt='o', color='r')\n",
      "\n",
      "ax2.set_xlim(6.0, 11.0)\n",
      "ax2.set_xticks(np.arange(6.0,11.0, 2.0))\n",
      "ax2.yaxis.tick_right()\n",
      "\n",
      "new_ticks = np.array([])\n",
      "tick = ax2.get_xticks().tolist()\n",
      "for a in tick:\n",
      "    a = str(int(a))+':00 pm'\n",
      "    new_ticks = np.append(new_ticks, a)\n",
      "\n",
      "ax2.set_xticklabels(new_ticks)\n",
      "\n",
      "\n",
      "\n",
      "\n",
      "# Now, let's calculate radial velocity averages\n",
      "rv_A = np.average(FLWO_A[\"rv\"], weights=(1.0/FLWO_A[\"rv_err\"]**2))\n",
      "rv_A_err = np.sqrt(np.average((FLWO_A[\"rv\"]-rv_A)**2, weights=(1.0/FLWO_A[\"rv_err\"]**2)))\n",
      "ax1.axhline(rv_A, color='b', linestyle='--')\n",
      "#ax1.axhline(rv_A-rv_A_err, color='b', linestyle='--')\n",
      "#ax1.axhline(rv_A+rv_A_err, color='b', linestyle='--')\n",
      "ax2.axhline(rv_A, color='b', linestyle='--')\n",
      "#ax2.axhline(rv_A-rv_A_err, color='b', linestyle='--')\n",
      "#ax2.axhline(rv_A+rv_A_err, color='b', linestyle='--')\n",
      "\n",
      "\n",
      "rv_B = np.average(FLWO_B[\"rv\"], weights=(1.0/FLWO_B[\"rv_err\"]**2))\n",
      "rv_B_err = np.sqrt(np.average((FLWO_B[\"rv\"]-rv_B)**2, weights=(1.0/FLWO_B[\"rv_err\"]**2)))\n",
      "ax1.axhline(rv_B, color='r', linestyle='--')\n",
      "#ax1.axhline(rv_B-rv_B_err, color='r', linestyle='--')\n",
      "#ax1.axhline(rv_B+rv_B_err, color='r', linestyle='--')\n",
      "ax2.axhline(rv_B, color='r', linestyle='--')\n",
      "#ax2.axhline(rv_B-rv_B_err, color='r', linestyle='--')\n",
      "#ax2.axhline(rv_B+rv_B_err, color='r', linestyle='--')\n",
      "\n",
      "\n",
      "\n",
      "print rv_A, rv_A_err, rv_B, rv_B_err\n",
      "\n",
      "\n",
      "\n",
      "# Add slashes to indicate break\n",
      "d = .015 # how big to make the diagonal lines in axes coordinates\n",
      "# arguments to pass plot, just so we don't keep repeating them\n",
      "kwargs = dict(transform=ax1.transAxes, color='k', clip_on=False)\n",
      "ax1.plot((1-d,1+d),(-d,+d), **kwargs)      # top-left diagonal\n",
      "ax1.plot((1-d,1+d),(1-d,1+d), **kwargs)    # top-right diagonal\n",
      "\n",
      "\n",
      "kwargs = dict(transform=ax2.transAxes, color='k', clip_on=False)\n",
      "ax2.plot((-d,+d),(-d,+d), **kwargs)      # top-left diagonal\n",
      "ax2.plot((-d,+d),(1-d,1+d), **kwargs)    # top-right diagonal\n",
      "\n",
      "\n",
      "ax1.spines['right'].set_visible(False)\n",
      "ax2.spines['left'].set_visible(False)\n",
      "\n",
      "\n",
      "ax1.set_ylabel(r'Radial Velocity (km s$^{-1}$)')\n",
      "ax1.set_xlabel('July 11, 2015')\n",
      "\n",
      "#f.text(0.5, 0.04, 'MJD - 245700', ha='center')\n",
      "ax2.set_xlabel('July 20, 2015')\n",
      "#ax1.xlabel('MJD - 245700')\n",
      "\n",
      "plt.savefig('../figures/FLWO_rv.pdf')\n",
      "#plt.show()"
     ],
     "language": "python",
     "metadata": {},
     "outputs": [
      {
       "output_type": "stream",
       "stream": "stdout",
       "text": [
        "30.0584182843 6.89215170015 52.7437233725 19.1504824696\n"
       ]
      },
      {
       "metadata": {},
       "output_type": "display_data",
       "png": "[encoded data removed]",
       "text": [
        "<matplotlib.figure.Figure at 0x10d33c050>"
       ]
      }
     ],
     "prompt_number": 15
    },
    {
     "cell_type": "code",
     "collapsed": false,
     "input": [],
     "language": "python",
     "metadata": {},
     "outputs": [],
     "prompt_number": 15
    },
    {
     "cell_type": "heading",
     "level": 3,
     "metadata": {},
     "source": [
      "Determine the Gravitational Redshift"
     ]
    },
    {
     "cell_type": "code",
     "collapsed": false,
     "input": [
      "names = [\"mass\",\"age\",\"radius\",\"Teff\"]\n",
      "\n",
      "# Import Matt Wood's WD models\n",
      "wood_M04 = os.path.abspath(\"../data/wood_M04.dat\")\n",
      "wood_M05 = os.path.abspath(\"../data/wood_M05.dat\")\n",
      "wood_M06 = os.path.abspath(\"../data/wood_M06.dat\")\n",
      "wood_M07 = os.path.abspath(\"../data/wood_M07.dat\")\n",
      "wood_M08 = os.path.abspath(\"../data/wood_M08.dat\")\n",
      "wood_M09 = os.path.abspath(\"../data/wood_M09.dat\")\n",
      "wood_M10 = os.path.abspath(\"../data/wood_M10.dat\")\n",
      "\n",
      "M04 = np.genfromtxt(wood_M04, skip_header=2, dtype=None, usecols=(2,1,5,6), names=names)\n",
      "M05 = np.genfromtxt(wood_M05, skip_header=2, dtype=None, usecols=(2,1,5,6), names=names)\n",
      "M06 = np.genfromtxt(wood_M06, skip_header=2, dtype=None, usecols=(2,1,5,6), names=names)\n",
      "M07 = np.genfromtxt(wood_M07, skip_header=2, dtype=None, usecols=(2,1,5,6), names=names)\n",
      "M08 = np.genfromtxt(wood_M08, skip_header=2, dtype=None, usecols=(2,1,5,6), names=names)\n",
      "M09 = np.genfromtxt(wood_M09, skip_header=2, dtype=None, usecols=(2,1,5,6), names=names)\n",
      "M10 = np.genfromtxt(wood_M10, skip_header=2, dtype=None, usecols=(2,1,5,6), names=names)\n",
      "\n",
      "# Alter 1st column to mass\n",
      "M04[\"mass\"] = 0.4\n",
      "M05[\"mass\"] = 0.5\n",
      "M06[\"mass\"] = 0.6\n",
      "M07[\"mass\"] = 0.7\n",
      "M08[\"mass\"] = 0.8\n",
      "M09[\"mass\"] = 0.9\n",
      "M10[\"mass\"] = 1.0\n",
      "\n",
      "# Convert radius and T_eff from log to linear\n",
      "M04[\"radius\"] = np.power(10.0, M04[\"radius\"])\n",
      "M04[\"Teff\"] = np.power(10.0, M04[\"Teff\"])\n",
      "M05[\"radius\"] = np.power(10.0, M05[\"radius\"])\n",
      "M05[\"Teff\"] = np.power(10.0, M05[\"Teff\"])\n",
      "M06[\"radius\"] = np.power(10.0, M06[\"radius\"])\n",
      "M06[\"Teff\"] = np.power(10.0, M06[\"Teff\"])\n",
      "M07[\"radius\"] = np.power(10.0, M07[\"radius\"])\n",
      "M07[\"Teff\"] = np.power(10.0, M07[\"Teff\"])\n",
      "M08[\"radius\"] = np.power(10.0, M08[\"radius\"])\n",
      "M08[\"Teff\"] = np.power(10.0, M08[\"Teff\"])\n",
      "M09[\"radius\"] = np.power(10.0, M09[\"radius\"])\n",
      "M09[\"Teff\"] = np.power(10.0, M09[\"Teff\"])\n",
      "M10[\"radius\"] = np.power(10.0, M10[\"radius\"])\n",
      "M10[\"Teff\"] = np.power(10.0, M10[\"Teff\"])"
     ],
     "language": "python",
     "metadata": {},
     "outputs": [],
     "prompt_number": 16
    },
    {
     "cell_type": "code",
     "collapsed": false,
     "input": [
      "# Create a regularly spaced grid\n",
      "m_grid_temp = np.linspace(0.4, 1.0, 7)\n",
      "t_grid_temp = np.linspace(5000.0, 30000.0, 26)\n",
      "m_grid, t_grid = np.meshgrid(m_grid_temp, t_grid_temp)\n",
      "r_grid = np.zeros((len(m_grid_temp), len(t_grid_temp)))\n",
      "\n",
      "interp_M04 = interp1d(M04[\"Teff\"][::-1], M04[\"radius\"][::-1], kind='cubic')\n",
      "r_grid[0] = interp_M04(t_grid_temp)\n",
      "interp_M05 = interp1d(M05[\"Teff\"][::-1], M05[\"radius\"][::-1], kind='cubic')\n",
      "r_grid[1] = interp_M05(t_grid_temp)\n",
      "interp_M06 = interp1d(M06[\"Teff\"][::-1], M06[\"radius\"][::-1], kind='cubic')\n",
      "r_grid[2] = interp_M06(t_grid_temp)\n",
      "interp_M07 = interp1d(M07[\"Teff\"][::-1], M07[\"radius\"][::-1], kind='cubic')\n",
      "r_grid[3] = interp_M07(t_grid_temp)\n",
      "interp_M08 = interp1d(M08[\"Teff\"][::-1], M08[\"radius\"][::-1], kind='cubic')\n",
      "r_grid[4] = interp_M08(t_grid_temp)\n",
      "interp_M09 = interp1d(M09[\"Teff\"][::-1], M09[\"radius\"][::-1], kind='cubic')\n",
      "r_grid[5] = interp_M09(t_grid_temp)\n",
      "interp_M10 = interp1d(M10[\"Teff\"][::-1], M10[\"radius\"][::-1], kind='cubic')\n",
      "r_grid[6] = interp_M10(t_grid_temp)\n",
      "\n",
      "\n",
      "\n",
      "WDA_m_grid = np.linspace(0.4,1.0,7)\n",
      "WDA_r_grid = np.zeros(7)\n",
      "WDA_r_grid[0] = interp_M04(14270.0)\n",
      "WDA_r_grid[1] = interp_M05(14270.0)\n",
      "WDA_r_grid[2] = interp_M06(14270.0)\n",
      "WDA_r_grid[3] = interp_M07(14270.0)\n",
      "WDA_r_grid[4] = interp_M08(14270.0)\n",
      "WDA_r_grid[5] = interp_M09(14270.0)\n",
      "WDA_r_grid[6] = interp_M10(14270.0)\n",
      "interp_WDA = interp1d(WDA_m_grid, WDA_r_grid)\n",
      "\n",
      "\n",
      "\n",
      "WDB_m_grid = np.linspace(0.4,1.0,7)\n",
      "WDB_r_grid = np.zeros(7)\n",
      "WDB_r_grid[0] = interp_M04(18830.0)\n",
      "WDB_r_grid[1] = interp_M05(18830.0)\n",
      "WDB_r_grid[2] = interp_M06(18830.0)\n",
      "WDB_r_grid[3] = interp_M07(18830.0)\n",
      "WDB_r_grid[4] = interp_M08(18830.0)\n",
      "WDB_r_grid[5] = interp_M09(18830.0)\n",
      "WDB_r_grid[6] = interp_M10(18830.0)\n",
      "interp_WDB = interp1d(WDB_m_grid, WDB_r_grid)\n",
      "\n"
     ],
     "language": "python",
     "metadata": {},
     "outputs": [],
     "prompt_number": 17
    },
    {
     "cell_type": "code",
     "collapsed": false,
     "input": [
      "G = 6.674e-8\n",
      "c = 3.0e10\n",
      "Msun = 1.989e33\n",
      "\n",
      "num = 1000\n",
      "\n",
      "M1 = normal(0.702, 0.022, num)\n",
      "T1 = normal(14270.0, 270.0, num)\n",
      "M2 = normal(0.837, 0.022, num)\n",
      "T2 = normal(18830.0, 220.0, num)\n",
      "\n",
      "R1 = np.zeros(num)\n",
      "R2 = np.zeros(num)\n",
      "v_grav1 = np.zeros(num)\n",
      "v_grav2 = np.zeros(num)\n",
      "\n",
      "for i in np.arange(num):\n",
      "    WDA_r_grid[0] = interp_M04(T1[i])\n",
      "    WDA_r_grid[1] = interp_M05(T1[i])\n",
      "    WDA_r_grid[2] = interp_M06(T1[i])\n",
      "    WDA_r_grid[3] = interp_M07(T1[i])\n",
      "    WDA_r_grid[4] = interp_M08(T1[i])\n",
      "    WDA_r_grid[5] = interp_M09(T1[i])\n",
      "    WDA_r_grid[6] = interp_M10(T1[i])\n",
      "    interp_WDA = interp1d(WDA_m_grid, WDA_r_grid)\n",
      "    R1[i] = interp_WDA(M1[i])\n",
      "    v_grav1[i] = G * M1[i] * Msun / (R1[i] * c) / 1.0e5\n",
      "    \n",
      "    \n",
      "    WDB_r_grid[0] = interp_M04(T2[i])\n",
      "    WDB_r_grid[1] = interp_M05(T2[i])\n",
      "    WDB_r_grid[2] = interp_M06(T2[i])\n",
      "    WDB_r_grid[3] = interp_M07(T2[i])\n",
      "    WDB_r_grid[4] = interp_M08(T2[i])\n",
      "    WDB_r_grid[5] = interp_M09(T2[i])\n",
      "    WDB_r_grid[6] = interp_M10(T2[i])\n",
      "    interp_WDB = interp1d(WDB_m_grid, WDB_r_grid)\n",
      "    R2[i] = interp_WDB(M2[i])\n",
      "    v_grav2[i] = G * M2[i] * Msun / (R2[i] * c) / 1.0e5\n",
      "\n",
      "\n",
      "plt.hist(v_grav1)\n",
      "plt.hist(v_grav2)"
     ],
     "language": "python",
     "metadata": {},
     "outputs": [
      {
       "metadata": {},
       "output_type": "pyout",
       "prompt_number": 18,
       "text": [
        "(array([   5.,   18.,   87.,  171.,  256.,  233.,  137.,   62.,   27.,    4.]),\n",
        " array([ 43.65139702,  45.50197581,  47.3525546 ,  49.2031334 ,\n",
        "         51.05371219,  52.90429098,  54.75486977,  56.60544856,\n",
        "         58.45602736,  60.30660615,  62.15718494]),\n",
        " <a list of 10 Patch objects>)"
       ]
      },
      {
       "metadata": {},
       "output_type": "display_data",
       "png": "[encoded data removed]",
       "text": [
        "<matplotlib.figure.Figure at 0x10cfe8610>"
       ]
      }
     ],
     "prompt_number": 18
    },
    {
     "cell_type": "code",
     "collapsed": false,
     "input": [
      "G = 6.674e-8\n",
      "c = 3.0e10\n",
      "Msun = 1.989e33\n",
      "R_wd_A = interp_WDA(0.702)\n",
      "R_wd_B = interp_WDB(0.837)\n",
      "\n",
      "v_grav_A = G * M_wd_A * Msun / (R_wd_A * c)\n",
      "v_grav_B = G * M_wd_B * Msun / (R_wd_B * c)\n",
      "\n",
      "print \"WD A gravitational redshift:\", v_grav_A / 1.0e5, \"km/s\"\n",
      "print \"WD B gravitational redshift:\", v_grav_B / 1.0e5, \"km/s\""
     ],
     "language": "python",
     "metadata": {},
     "outputs": [
      {
       "output_type": "stream",
       "stream": "stdout",
       "text": [
        "WD A gravitational redshift: 38.3523839818 km/s\n",
        "WD B gravitational redshift: 52.5726067002 km/s\n"
       ]
      }
     ],
     "prompt_number": 19
    },
    {
     "cell_type": "code",
     "collapsed": false,
     "input": [
      "v_grav1 = np.sort(v_grav1)\n",
      "print int(100.0*np.mean(v_grav1))/100.0, -int(100.0*(v_grav1[int(0.158*num)] - np.mean(v_grav1)))/100.0, -int(100.0*(np.mean(v_grav1) - v_grav1[int(0.842*num)]))/100.0\n",
      "\n",
      "v_grav2 = np.sort(v_grav2)\n",
      "print int(100.0*np.mean(v_grav2))/100.0, -int(100.0*(v_grav2[int(0.158*num)] - np.mean(v_grav2)))/100.0, -int(100.0*(np.mean(v_grav2) - v_grav2[int(0.842*num)]))/100.0"
     ],
     "language": "python",
     "metadata": {},
     "outputs": [
      {
       "output_type": "stream",
       "stream": "stdout",
       "text": [
        "38.26 2.29 2.09\n",
        "52.71 2.92 2.85\n"
       ]
      }
     ],
     "prompt_number": 20
    },
    {
     "cell_type": "code",
     "collapsed": false,
     "input": [],
     "language": "python",
     "metadata": {},
     "outputs": [],
     "prompt_number": 20
    },
    {
     "cell_type": "code",
     "collapsed": false,
     "input": [],
     "language": "python",
     "metadata": {},
     "outputs": []
    }
   ],
   "metadata": {}
  }
 ]
}