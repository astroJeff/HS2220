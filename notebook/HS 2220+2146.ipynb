{
 "metadata": {
  "name": "",
  "signature": "sha256:dea9150ac7399f9cb9ffb3055ee4f9c043063e4f199209b8fa7c8a32a84155ab"
 },
 "nbformat": 3,
 "nbformat_minor": 0,
 "worksheets": [
  {
   "cells": [
    {
     "cell_type": "heading",
     "level": 1,
     "metadata": {},
     "source": [
      "The post-blue straggler binary HS2220+2146"
     ]
    },
    {
     "cell_type": "heading",
     "level": 3,
     "metadata": {},
     "source": [
      "First, let's load up packages, and data from MESA"
     ]
    },
    {
     "cell_type": "code",
     "collapsed": false,
     "input": [
      "import os\n",
      "import emcee\n",
      "import triangle\n",
      "from scipy.stats import truncnorm, norm\n",
      "from scipy.interpolate import interp1d\n",
      "import scipy.optimize as opt\n",
      "import matplotlib.pyplot as plt\n",
      "import numpy as np\n",
      "import pylab as P\n",
      "%matplotlib inline\n",
      "\n",
      "\n",
      "# Import MESA lifetimes\n",
      "datafile = os.path.abspath(\"../data/MESA_lifetime.dat\")\n",
      "names = [\"name\",\"lifetime\"]\n",
      "MESA_tcool = np.genfromtxt(datafile, dtype=None, usecols=range(len(names)), names=names)\n",
      "\n",
      "# Move to log10 of stellar ages\n",
      "MESA_tcool[\"lifetime\"] = np.log10(MESA_tcool[\"lifetime\"])\n",
      "\n",
      "func_lifetime = interp1d(MESA_tcool[\"name\"],pow(10.,MESA_tcool[\"lifetime\"]), kind='linear', bounds_error=False, fill_value=1.0e7)\n",
      "func_lifetime_inv = interp1d(pow(10.,MESA_tcool[\"lifetime\"][::-1]),MESA_tcool[\"name\"][::-1], kind='linear', bounds_error=False, fill_value = 0.45)"
     ],
     "language": "python",
     "metadata": {},
     "outputs": [],
     "prompt_number": 1
    },
    {
     "cell_type": "heading",
     "level": 3,
     "metadata": {},
     "source": [
      "Next, let's define an initial-final mass relation"
     ]
    },
    {
     "cell_type": "code",
     "collapsed": false,
     "input": [
      "def IFMR_williams_inverse(M_wd):\n",
      "    # M_f = 0.339+-0.015 + (0.129+-0.004)M_i\n",
      "    return (M_wd - 0.339) / 0.129\n",
      "\n",
      "def IFMR_williams(M_zams):\n",
      "    # M_f = 0.339+-0.015 + (0.129+-0.004)M_i\n",
      "    return 0.129 * M_zams + 0.339\n"
     ],
     "language": "python",
     "metadata": {},
     "outputs": [],
     "prompt_number": 2
    },
    {
     "cell_type": "heading",
     "level": 3,
     "metadata": {},
     "source": [
      "Now, we can add the data for the system at hand, HS 2220+2146"
     ]
    },
    {
     "cell_type": "code",
     "collapsed": false,
     "input": [
      "# Data from spectra\n",
      "M_wd_A = 0.702\n",
      "M_wd_A_err = 0.022\n",
      "M_wd_B = 0.837\n",
      "M_wd_B_err = 0.022\n",
      "\n",
      "t_cool_A = 289.0\n",
      "t_cool_A_err = 22.0\n",
      "t_cool_B = 179.0\n",
      "t_cool_B_err = 14.0\n",
      "\n",
      "# Derived quantities\n",
      "M_zams_A = IFMR_williams_inverse(M_wd_A)\n",
      "M_zams_B = IFMR_williams_inverse(M_wd_B)\n",
      "\n",
      "print \"Initial mass of WD A: \", M_zams_A\n",
      "print \"Initial mass of WD B: \", M_zams_B\n",
      "\n",
      "t_pre_wd_A = func_lifetime(M_zams_A)\n",
      "t_pre_wd_B = func_lifetime(M_zams_B)\n",
      "\n",
      "print \"Pre-WD lifetime for WD A: \", t_pre_wd_A/1.0e6\n",
      "print \"Pre-WD lifetime for WD B: \", t_pre_wd_B/1.0e6\n",
      "\n",
      "print \"Total system age for WD A: \", t_pre_wd_A/1.0e6 + t_cool_A\n",
      "print \"Total system age for WD B: \", t_pre_wd_B/1.0e6 + t_cool_B"
     ],
     "language": "python",
     "metadata": {},
     "outputs": [
      {
       "output_type": "stream",
       "stream": "stdout",
       "text": [
        "Initial mass of WD A:  2.81395348837\n",
        "Initial mass of WD B:  3.86046511628\n",
        "Pre-WD lifetime for WD A: "
       ]
      },
      {
       "output_type": "stream",
       "stream": "stdout",
       "text": [
        " 586.923439487\n",
        "Pre-WD lifetime for WD B:  231.031881168\n",
        "Total system age for WD A:  "
       ]
      },
      {
       "output_type": "stream",
       "stream": "stdout",
       "text": [
        "875.923439487\n",
        "Total system age for WD B:  410.031881168\n"
       ]
      }
     ],
     "prompt_number": 63
    },
    {
     "cell_type": "markdown",
     "metadata": {},
     "source": [
      "Clearly, the system ages are incompatible, even considering uncertainties on these measurements, and an uncertain IFMR. If we, however, consider the more massive WD as the result of the evolution of a blue straggler, then we can find the ages compatible. In this case, the less massive WD sets the age of the system at ~924 Myr. Let's see how this could work."
     ]
    },
    {
     "cell_type": "code",
     "collapsed": false,
     "input": [
      "print \"Initial mass of WD B: \", M_zams_B"
     ],
     "language": "python",
     "metadata": {},
     "outputs": [
      {
       "output_type": "stream",
       "stream": "stdout",
       "text": [
        "Initial mass of WD B:  3.86046511628\n"
       ]
      }
     ],
     "prompt_number": 64
    },
    {
     "cell_type": "heading",
     "level": 3,
     "metadata": {},
     "source": [
      "Using the system age derived from WD A, we can determine the pre-WD lifetime for WD B"
     ]
    },
    {
     "cell_type": "code",
     "collapsed": false,
     "input": [
      "print \"WD B pre-WD lifetime: \", t_pre_wd_A/1.0e6 + t_cool_A - t_cool_B"
     ],
     "language": "python",
     "metadata": {},
     "outputs": [
      {
       "output_type": "stream",
       "stream": "stdout",
       "text": [
        "WD B pre-WD lifetime:  696.923439487\n"
       ]
      }
     ],
     "prompt_number": 65
    },
    {
     "cell_type": "heading",
     "level": 3,
     "metadata": {},
     "source": [
      "Next, we can determine the pre-WD lifetime of a 3.86 Msun star"
     ]
    },
    {
     "cell_type": "code",
     "collapsed": false,
     "input": [
      "print \"3.86 Msun star pre-WD lifetime: \", func_lifetime(3.86)/1.0e6"
     ],
     "language": "python",
     "metadata": {},
     "outputs": [
      {
       "output_type": "stream",
       "stream": "stdout",
       "text": [
        "3.86 Msun star pre-WD lifetime:  231.104422148\n"
       ]
      }
     ],
     "prompt_number": 66
    },
    {
     "cell_type": "heading",
     "level": 3,
     "metadata": {},
     "source": [
      "Now we can determine how long it took for the inner binary to merge after its initial formation"
     ]
    },
    {
     "cell_type": "code",
     "collapsed": false,
     "input": [
      "print \"Star B pre-merger time: \", t_pre_wd_A/1.0e6 + t_cool_A - t_cool_B - func_lifetime(3.86)/1.0e6"
     ],
     "language": "python",
     "metadata": {},
     "outputs": [
      {
       "output_type": "stream",
       "stream": "stdout",
       "text": [
        "Star B pre-merger time:  465.819017339\n"
       ]
      }
     ],
     "prompt_number": 67
    },
    {
     "cell_type": "markdown",
     "metadata": {},
     "source": [
      "In this theory, WD B, began as two separate stars of roughly 1.9 Msun each, then merged within 466 Myr, forming a 3.86 Msun star. After another ~100 Myr, Star A evolved into a WD, expanding the orbit. Another ~125 Myr later, Star B, the more massive in the pair evolved into a WD. We now see the system as a wide double white dwarf, some ~175 Myr after the system formed."
     ]
    },
    {
     "cell_type": "heading",
     "level": 3,
     "metadata": {},
     "source": [
      "Just to check, lets see how massive the stars in the inner binary could be such that they did not evolve into WDs in the first 4 Myrs"
     ]
    },
    {
     "cell_type": "code",
     "collapsed": false,
     "input": [
      "print \"Mass of a star with a lifetime of 466 Myr: \", func_lifetime_inv(466.0*1.0e6)"
     ],
     "language": "python",
     "metadata": {},
     "outputs": [
      {
       "output_type": "stream",
       "stream": "stdout",
       "text": [
        "Mass of a star with a lifetime of 466 Myr:  3.04178339306\n"
       ]
      }
     ],
     "prompt_number": 71
    },
    {
     "cell_type": "heading",
     "level": 3,
     "metadata": {},
     "source": [
      "Now, let's determine the projected angular separation of the binary"
     ]
    },
    {
     "cell_type": "code",
     "collapsed": false,
     "input": [
      "from astropy import coordinates as coord\n",
      "from astropy import units as u\n",
      "from astropy import constants as const\n",
      "\n",
      "# Distance to pair\n",
      "dist_wd_A = 79*u.pc\n",
      "dist_wd_B = 73*u.pc\n",
      "\n",
      "# Use average as the distance to the pair\n",
      "dist_pair = (dist_wd_A + dist_wd_B) / 2.0\n",
      "\n",
      "A_coor = coord.SkyCoord('22h23m01.74s', '+22d01m25.0s', distance=dist_pair)\n",
      "B_coor = coord.SkyCoord('22h23m01.64s', '+22d01m31.0s', distance=dist_pair)\n",
      "\n",
      "# Angular distance\n",
      "theta = A_coor.separation(B_coor)\n",
      "\n",
      "# Projected distance\n",
      "sep_proj = A_coor.separation_3d(B_coor)\n",
      "\n",
      "print \"Angular separation: \", theta\n",
      "print \"Projected separation:\", sep_proj.AU, \"AU\""
     ],
     "language": "python",
     "metadata": {},
     "outputs": [
      {
       "output_type": "stream",
       "stream": "stdout",
       "text": [
        "Angular separation:  0d00m06.159s\n",
        "Projected separation: 468.085907421 AU\n"
       ]
      }
     ],
     "prompt_number": 62
    },
    {
     "cell_type": "heading",
     "level": 3,
     "metadata": {},
     "source": [
      "Next, we can find the minimum orbital period, assuming a circular, face-on orbit"
     ]
    },
    {
     "cell_type": "code",
     "collapsed": false,
     "input": [
      "M_tot = (M_wd_A + M_wd_B)*u.solMass\n",
      "\n",
      "P_orb = 2.0*np.pi * np.sqrt(sep_proj*sep_proj*sep_proj / (const.G * M_tot)).decompose()\n",
      "\n",
      "print P_orb.to(u.yr)"
     ],
     "language": "python",
     "metadata": {},
     "outputs": [
      {
       "output_type": "stream",
       "stream": "stdout",
       "text": [
        "8162.38084723 yr\n"
       ]
      }
     ],
     "prompt_number": 59
    },
    {
     "cell_type": "heading",
     "level": 3,
     "metadata": {},
     "source": [
      "Now, let's work backwards to estimate the separation of the outer binary when the inner binary merged"
     ]
    },
    {
     "cell_type": "code",
     "collapsed": false,
     "input": [
      "# Assuming Jeans mode mass loss\n",
      "\n",
      "# A (M_1 + M_2) = const.\n",
      "\n",
      "sep_proj_min = sep_proj * (M_wd_A + M_wd_B) / (M_wd_A + 3.86)\n",
      "print \"Minimum separation at merger:\", sep_proj_min.AU, \"AU\""
     ],
     "language": "python",
     "metadata": {},
     "outputs": [
      {
       "output_type": "stream",
       "stream": "stdout",
       "text": [
        "Minimum separation at merger: 157.909735099 AU\n"
       ]
      }
     ],
     "prompt_number": 61
    },
    {
     "cell_type": "code",
     "collapsed": false,
     "input": [],
     "language": "python",
     "metadata": {},
     "outputs": []
    }
   ],
   "metadata": {}
  }
 ]
}