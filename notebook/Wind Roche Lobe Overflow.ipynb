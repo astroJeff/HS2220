{
 "metadata": {
  "name": "",
  "signature": "sha256:633ce23e6783465c53b1d35d91df76e4508f4a97bd48c8b8bc35dfb3699565d8"
 },
 "nbformat": 3,
 "nbformat_minor": 0,
 "worksheets": [
  {
   "cells": [
    {
     "cell_type": "heading",
     "level": 1,
     "metadata": {},
     "source": [
      "The post-blue straggler binary HS2220+2146"
     ]
    },
    {
     "cell_type": "heading",
     "level": 2,
     "metadata": {},
     "source": [
      "Wind Roche Lobe Overflow"
     ]
    },
    {
     "cell_type": "heading",
     "level": 3,
     "metadata": {},
     "source": [
      "First, let's load up the necessary packages and define constants"
     ]
    },
    {
     "cell_type": "code",
     "collapsed": false,
     "input": [
      "import matplotlib.pyplot as plt\n",
      "import numpy as np\n",
      "import mesa as ms\n",
      "\n",
      "%matplotlib inline\n",
      "\n",
      "# Constants all in cgs\n",
      "Msun = 1.989e33 \n",
      "G = 6.674e-8\n",
      "secday = 3600.0*24.0\n",
      "secyer = 3600.0*24.0*365.25\n",
      "AUincm = 1.496e13 # AU in cm"
     ],
     "language": "python",
     "metadata": {},
     "outputs": [],
     "prompt_number": 7
    },
    {
     "cell_type": "heading",
     "level": 3,
     "metadata": {},
     "source": [
      "Load MESA data files"
     ]
    },
    {
     "cell_type": "code",
     "collapsed": false,
     "input": [
      "M4=ms.history_data('../data/Bloc_4')"
     ],
     "language": "python",
     "metadata": {},
     "outputs": [
      {
       "output_type": "stream",
       "stream": "stdout",
       "text": [
        "No history.datasa file found, create new one from history.data\n"
       ]
      },
      {
       "output_type": "stream",
       "stream": "stdout",
       "text": [
        "\r",
        " reading ...5%"
       ]
      },
      {
       "output_type": "stream",
       "stream": "stdout",
       "text": [
        "\r",
        " reading ...10%"
       ]
      },
      {
       "output_type": "stream",
       "stream": "stdout",
       "text": [
        "\r",
        " reading ...15%"
       ]
      },
      {
       "output_type": "stream",
       "stream": "stdout",
       "text": [
        "\r",
        " reading ...20%"
       ]
      },
      {
       "output_type": "stream",
       "stream": "stdout",
       "text": [
        "\r",
        " reading ...25%"
       ]
      },
      {
       "output_type": "stream",
       "stream": "stdout",
       "text": [
        "\r",
        " reading ...30%"
       ]
      },
      {
       "output_type": "stream",
       "stream": "stdout",
       "text": [
        "\r",
        " reading ...35%"
       ]
      },
      {
       "output_type": "stream",
       "stream": "stdout",
       "text": [
        "\r",
        " reading ...40%"
       ]
      },
      {
       "output_type": "stream",
       "stream": "stdout",
       "text": [
        "\r",
        " reading ...45%"
       ]
      },
      {
       "output_type": "stream",
       "stream": "stdout",
       "text": [
        "\r",
        " reading ...50%"
       ]
      },
      {
       "output_type": "stream",
       "stream": "stdout",
       "text": [
        "\r",
        " reading ...55%"
       ]
      },
      {
       "output_type": "stream",
       "stream": "stdout",
       "text": [
        "\r",
        " reading ...60%"
       ]
      },
      {
       "output_type": "stream",
       "stream": "stdout",
       "text": [
        "\r",
        " reading ...65%"
       ]
      },
      {
       "output_type": "stream",
       "stream": "stdout",
       "text": [
        "\r",
        " reading ...70%"
       ]
      },
      {
       "output_type": "stream",
       "stream": "stdout",
       "text": [
        "\r",
        " reading ...75%"
       ]
      },
      {
       "output_type": "stream",
       "stream": "stdout",
       "text": [
        "\r",
        " reading ...80%"
       ]
      },
      {
       "output_type": "stream",
       "stream": "stdout",
       "text": [
        "\r",
        " reading ...85%"
       ]
      },
      {
       "output_type": "stream",
       "stream": "stdout",
       "text": [
        "\r",
        " reading ...90%"
       ]
      },
      {
       "output_type": "stream",
       "stream": "stdout",
       "text": [
        "\r",
        " reading ...95%"
       ]
      },
      {
       "output_type": "stream",
       "stream": "stdout",
       "text": [
        "\r",
        " reading ...100% \n",
        "\n"
       ]
      }
     ],
     "prompt_number": 6
    },
    {
     "cell_type": "heading",
     "level": 3,
     "metadata": {},
     "source": [
      "Now let's define the evolutionary variables determined previously from comparing spectra to models"
     ]
    },
    {
     "cell_type": "code",
     "collapsed": false,
     "input": [
      "# Initial mass of the binary, after the inner binary has merged\n",
      "M_1_i = 3.86\n",
      "M_2_i = 2.81\n",
      "\n",
      "# WD masses from spectral fits\n",
      "M_1_WD = 0.837\n",
      "M_2_WD = 0.702\n",
      "\n",
      "# Orbital separations\n",
      "Sep_A = 100.0   # AU\n",
      "Sep_B = 150.0   # AU"
     ],
     "language": "python",
     "metadata": {},
     "outputs": [],
     "prompt_number": 22
    },
    {
     "cell_type": "heading",
     "level": 3,
     "metadata": {},
     "source": [
      "Now, let's determine the maximum radius of each component when it was a super-AGB star"
     ]
    },
    {
     "cell_type": "code",
     "collapsed": false,
     "input": [
      "R_max_1 = max(M4.get('radius_cm'))\n",
      "\n",
      "print \"Maximum radius for 4.0 Msun star:\", int(100.0*R_max_1/AUincm)/100.0, \"AU\"\n",
      "\n",
      "\n",
      "# From Karovicova et al. (2013)\n",
      "# For an O-type Mira variable, the Al_2O_3 formation radius is roughly twice the photospheric radius\n",
      "R_Al_2_O_3 = 2.0 * R_max_1\n",
      "print 'Al_2O_3 dust formation radius for 4.0 Msun star:', int(100.0*R_Al_2_O_3/AUincm)/100.0, \"AU\"\n",
      "\n",
      "# For an O-type Mira variable, the silicate formation radius is roughly twice the photospheric radius\n",
      "R_silicate = 4.0 * R_max_1\n",
      "print 'Silicate dust formation radius for 4.0 Msun star:', int(100.0*R_silicate/AUincm)/100.0, \"AU\""
     ],
     "language": "python",
     "metadata": {},
     "outputs": [
      {
       "output_type": "stream",
       "stream": "stdout",
       "text": [
        "Maximum radius for 4.0 Msun star: 2.66 AU\n",
        "Al_2O_3 dust formation radius for 4.0 Msun star: 5.32 AU\n",
        "Silicate dust formation radius for 4.0 Msun star: 10.65 AU\n"
       ]
      }
     ],
     "prompt_number": 18
    },
    {
     "cell_type": "heading",
     "level": 3,
     "metadata": {},
     "source": [
      "Now, let's determine the Roche radii at all stages of the binary's evolution"
     ]
    },
    {
     "cell_type": "code",
     "collapsed": false,
     "input": [
      "# From Eggleton (1983)\n",
      "def R_roche(M1, M2):\n",
      "    q = M1/M2\n",
      "    q_1_3 = np.power(q,1.0/3.0)\n",
      "    q_2_3 = q_1_3*q_1_3\n",
      "    \n",
      "    return 0.49*q_2_3 / (0.6*q_2_3 + np.log(1.0 + q_1_3))\n",
      "\n",
      "# When both stars are on their MS\n",
      "RL_A_1 = Sep_A * R_roche(M_1_i, M_2_i)\n",
      "RL_A_2 = Sep_A * R_roche(M_2_i, M_1_i)\n",
      "\n",
      "# When star 2 has evolved into a WD\n",
      "RL_B_1 = Sep_B * R_roche(M_1_i, M_2_WD)\n",
      "RL_B_2 = Sep_B * R_roche(M_2_WD, M_1_i)\n",
      "\n",
      "print \"Roche radii for two MS stars:\"\n",
      "print \"\\tStar 1:\", int(RL_A_1*100.0)/100.0, \"AU\"\n",
      "print \"\\tStar 2:\", int(RL_A_2*100.0)/100.0, \"AU\"\n",
      "\n",
      "print \"Roche radii after Star 2 evolves into a WD:\"\n",
      "print \"\\tStar 1:\", int(RL_B_1*100.0)/100.0, \"AU\"\n",
      "print \"\\tStar 2:\", int(RL_B_2*100.0)/100.0, \"AU\"\n",
      "\n"
     ],
     "language": "python",
     "metadata": {},
     "outputs": [
      {
       "output_type": "stream",
       "stream": "stdout",
       "text": [
        "Roche radii for two MS stars:\n",
        "\tStar 1: 40.66 AU\n",
        "\tStar 2: 35.17 AU\n",
        "Roche radii after Star 2 evolves into a WD:\n",
        "\tStar 1: 79.33 AU\n",
        "\tStar 2: 36.77 AU\n"
       ]
      }
     ],
     "prompt_number": 25
    },
    {
     "cell_type": "code",
     "collapsed": false,
     "input": [],
     "language": "python",
     "metadata": {},
     "outputs": []
    }
   ],
   "metadata": {}
  }
 ]
}