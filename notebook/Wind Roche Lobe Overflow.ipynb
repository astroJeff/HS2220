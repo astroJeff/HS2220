{
 "metadata": {
  "name": "",
  "signature": "sha256:b69bc7435c2aa78c6c8c5703adaebe34d643087d0b083a08052923c98fdc3f26"
 },
 "nbformat": 3,
 "nbformat_minor": 0,
 "worksheets": [
  {
   "cells": [
    {
     "cell_type": "heading",
     "level": 1,
     "metadata": {},
     "source": [
      "The post-blue straggler binary HS2220+2146"
     ]
    },
    {
     "cell_type": "heading",
     "level": 2,
     "metadata": {},
     "source": [
      "Wind Roche Lobe Overflow"
     ]
    },
    {
     "cell_type": "heading",
     "level": 3,
     "metadata": {},
     "source": [
      "First, let's load up the necessary packages and define constants"
     ]
    },
    {
     "cell_type": "code",
     "collapsed": false,
     "input": [
      "import matplotlib.pyplot as plt\n",
      "import numpy as np\n",
      "import mesa as ms\n",
      "from scipy.integrate import ode\n",
      "\n",
      "%matplotlib inline\n",
      "\n",
      "# Constants all in cgs\n",
      "Msun = 1.989e33 \n",
      "G = 6.674e-8\n",
      "secday = 3600.0*24.0\n",
      "secyer = 3600.0*24.0*365.25\n",
      "AUincm = 1.496e13 # AU in cm"
     ],
     "language": "python",
     "metadata": {},
     "outputs": [],
     "prompt_number": 1
    },
    {
     "cell_type": "heading",
     "level": 3,
     "metadata": {},
     "source": [
      "Load MESA data files"
     ]
    },
    {
     "cell_type": "code",
     "collapsed": false,
     "input": [
      "M4=ms.history_data('../data/Bloc_4')"
     ],
     "language": "python",
     "metadata": {},
     "outputs": [
      {
       "output_type": "stream",
       "stream": "stdout",
       "text": [
        "Using old history.datasa file ...\n"
       ]
      },
      {
       "output_type": "stream",
       "stream": "stdout",
       "text": [
        "\r",
        " reading ...5%"
       ]
      },
      {
       "output_type": "stream",
       "stream": "stdout",
       "text": [
        "\r",
        " reading ...10%"
       ]
      },
      {
       "output_type": "stream",
       "stream": "stdout",
       "text": [
        "\r",
        " reading ...15%"
       ]
      },
      {
       "output_type": "stream",
       "stream": "stdout",
       "text": [
        "\r",
        " reading ...20%"
       ]
      },
      {
       "output_type": "stream",
       "stream": "stdout",
       "text": [
        "\r",
        " reading ...25%"
       ]
      },
      {
       "output_type": "stream",
       "stream": "stdout",
       "text": [
        "\r",
        " reading ...30%"
       ]
      },
      {
       "output_type": "stream",
       "stream": "stdout",
       "text": [
        "\r",
        " reading ...35%"
       ]
      },
      {
       "output_type": "stream",
       "stream": "stdout",
       "text": [
        "\r",
        " reading ...40%"
       ]
      },
      {
       "output_type": "stream",
       "stream": "stdout",
       "text": [
        "\r",
        " reading ...45%"
       ]
      },
      {
       "output_type": "stream",
       "stream": "stdout",
       "text": [
        "\r",
        " reading ...50%"
       ]
      },
      {
       "output_type": "stream",
       "stream": "stdout",
       "text": [
        "\r",
        " reading ...55%"
       ]
      },
      {
       "output_type": "stream",
       "stream": "stdout",
       "text": [
        "\r",
        " reading ...60%"
       ]
      },
      {
       "output_type": "stream",
       "stream": "stdout",
       "text": [
        "\r",
        " reading ...65%"
       ]
      },
      {
       "output_type": "stream",
       "stream": "stdout",
       "text": [
        "\r",
        " reading ...70%"
       ]
      },
      {
       "output_type": "stream",
       "stream": "stdout",
       "text": [
        "\r",
        " reading ...75%"
       ]
      },
      {
       "output_type": "stream",
       "stream": "stdout",
       "text": [
        "\r",
        " reading ...80%"
       ]
      },
      {
       "output_type": "stream",
       "stream": "stdout",
       "text": [
        "\r",
        " reading ...85%"
       ]
      },
      {
       "output_type": "stream",
       "stream": "stdout",
       "text": [
        "\r",
        " reading ...90%"
       ]
      },
      {
       "output_type": "stream",
       "stream": "stdout",
       "text": [
        "\r",
        " reading ...95%"
       ]
      },
      {
       "output_type": "stream",
       "stream": "stdout",
       "text": [
        "\r",
        " reading ...100% \n",
        "\n"
       ]
      }
     ],
     "prompt_number": 2
    },
    {
     "cell_type": "heading",
     "level": 3,
     "metadata": {},
     "source": [
      "Now let's define the evolutionary variables determined previously from comparing spectra to models"
     ]
    },
    {
     "cell_type": "code",
     "collapsed": false,
     "input": [
      "# Initial mass of the binary, after the inner binary has merged\n",
      "M_1_i = 4.5\n",
      "M_2_i = 3.3\n",
      "\n",
      "# WD masses from spectral fits\n",
      "M_1_WD = 0.837\n",
      "M_2_WD = 0.702\n",
      "\n",
      "# Orbital separations\n",
      "Sep_A = 90.0   # AU\n",
      "Sep_B = 170.0   # AU"
     ],
     "language": "python",
     "metadata": {},
     "outputs": [],
     "prompt_number": 3
    },
    {
     "cell_type": "heading",
     "level": 3,
     "metadata": {},
     "source": [
      "Now, let's determine the maximum radius of each component when it was a super-AGB star"
     ]
    },
    {
     "cell_type": "code",
     "collapsed": false,
     "input": [
      "R_max_1 = max(M4.get('radius_cm'))\n",
      "\n",
      "print \"Maximum radius for 4.0 Msun star:\", int(100.0*R_max_1/AUincm)/100.0, \"AU\"\n",
      "\n",
      "\n",
      "# From Karovicova et al. (2013)\n",
      "# For an O-type Mira variable, the Al_2O_3 formation radius is roughly twice the photospheric radius\n",
      "R_Al_2_O_3 = 2.0 * R_max_1\n",
      "print 'Al_2O_3 dust formation radius for 4.0 Msun star:', int(100.0*R_Al_2_O_3/AUincm)/100.0, \"AU\"\n",
      "\n",
      "# For an O-type Mira variable, the silicate formation radius is roughly twice the photospheric radius\n",
      "R_silicate = 4.0 * R_max_1\n",
      "print 'Silicate dust formation radius for 4.0 Msun star:', int(100.0*R_silicate/AUincm)/100.0, \"AU\""
     ],
     "language": "python",
     "metadata": {},
     "outputs": [
      {
       "output_type": "stream",
       "stream": "stdout",
       "text": [
        "Maximum radius for 4.0 Msun star: 2.66 AU\n",
        "Al_2O_3 dust formation radius for 4.0 Msun star: 5.32 AU\n",
        "Silicate dust formation radius for 4.0 Msun star: 10.65 AU\n"
       ]
      }
     ],
     "prompt_number": 4
    },
    {
     "cell_type": "heading",
     "level": 3,
     "metadata": {},
     "source": [
      "Now, let's determine the Roche radii at all stages of the binary's evolution"
     ]
    },
    {
     "cell_type": "code",
     "collapsed": false,
     "input": [
      "# From Eggleton (1983)\n",
      "def R_roche(M1, M2):\n",
      "    q = M1/M2\n",
      "    q_1_3 = np.power(q,1.0/3.0)\n",
      "    q_2_3 = q_1_3*q_1_3\n",
      "    \n",
      "    return 0.49*q_2_3 / (0.6*q_2_3 + np.log(1.0 + q_1_3))\n",
      "\n",
      "# When both stars are on their MS\n",
      "RL_A_1 = Sep_A * R_roche(M_1_i, M_2_i)\n",
      "RL_A_2 = Sep_A * R_roche(M_2_i, M_1_i)\n",
      "\n",
      "# When star 2 has evolved into a WD\n",
      "#RL_B_1 = Sep_B * R_roche(M_1_i, M_2_WD)\n",
      "#RL_B_2 = Sep_B * R_roche(M_2_WD, M_1_i)\n",
      "RL_B_1 = Sep_B * R_roche(M_1_WD, M_2_i)\n",
      "RL_B_2 = Sep_B * R_roche(M_2_i, M_1_WD)\n",
      "\n",
      "print \"Roche radii for two MS stars:\"\n",
      "print \"\\tStar 1:\", int(RL_A_1*100.0)/100.0, \"AU\"\n",
      "print \"\\tStar 2:\", int(RL_A_2*100.0)/100.0, \"AU\"\n",
      "\n",
      "print \"Roche radii after Star 2 evolves into a WD:\"\n",
      "print \"\\tStar 1:\", int(RL_B_1*100.0)/100.0, \"AU\"\n",
      "print \"\\tStar 2:\", int(RL_B_2*100.0)/100.0, \"AU\"\n",
      "\n"
     ],
     "language": "python",
     "metadata": {},
     "outputs": [
      {
       "output_type": "stream",
       "stream": "stdout",
       "text": [
        "Roche radii for two MS stars:\n",
        "\tStar 1: 36.54 AU\n",
        "\tStar 2: 31.71 AU\n",
        "Roche radii after Star 2 evolves into a WD:\n",
        "\tStar 1: 45.67 AU\n",
        "\tStar 2: 85.02 AU\n"
       ]
      }
     ],
     "prompt_number": 5
    },
    {
     "cell_type": "heading",
     "level": 3,
     "metadata": {},
     "source": [
      "Now, let's determine the wind velocity at the dust condensation radius, V_c. We can determine this using energy conservation."
     ]
    },
    {
     "cell_type": "code",
     "collapsed": false,
     "input": [
      "v_0 = 37.0*1.0e5     # 5 km/s - wind velocity at stellar radius\n",
      "alpha = 2.0   #      - parameterization of dust condensation - alpha = R_c / R_star\n",
      "\n",
      "# Wind velocity at the condensation radius\n",
      "v_c = np.sqrt(v_0*v_0 - 2.0*G*4.0*Msun/(R_max_1) * (alpha - 1.0)/alpha)\n",
      "\n",
      "print \"Maximum radius:\", int(R_max_1/AUincm*100.0)/100.0, \"AU\"\n",
      "print \"Escape velocity from surface:\", int(np.sqrt(2.0*G*4.0*Msun/R_max_1)/1.0e5*100.0)/100.0, \"km/s\"\n",
      "print \"Wind velocity:\", int(v_c/1.0e5*100.0)/100.0, \"km/s\""
     ],
     "language": "python",
     "metadata": {},
     "outputs": [
      {
       "output_type": "stream",
       "stream": "stdout",
       "text": [
        "Maximum radius: 2.66 AU\n",
        "Escape velocity from surface: 51.63 km/s\n",
        "Wind velocity: 5.99 km/s\n"
       ]
      }
     ],
     "prompt_number": 7
    },
    {
     "cell_type": "heading",
     "level": 3,
     "metadata": {},
     "source": [
      "We now have to set up the set of coupled differential equations to solve for the wind velocity as a function of radius. We use the toy model of Hofner (2009)"
     ]
    },
    {
     "cell_type": "code",
     "collapsed": false,
     "input": [
      "# Constants for problem\n",
      "v_c = 5.0 * 1.0e5     # wind velocity at the condensation radius\n",
      "Mass = 4.0 * Msun\n",
      "R_c = alpha * R_max_1\n",
      "gamma = 1.5\n",
      "\n",
      "\n",
      "# Differential equations\n",
      "def F(t,z,args):\n",
      "    (r, v) = z\n",
      "    (M, R_c, gamma) = args\n",
      "    \n",
      "    g_c = G*M/(R_c*R_c)\n",
      "    \n",
      "    dr = v\n",
      "    dv = -g_c * (R_c/r)**2 * (1.0 - gamma)\n",
      "    \n",
      "    return np.array([dr, dv])\n",
      "\n",
      "\n",
      "# Set up the integrator\n",
      "wind = ode(F).set_integrator('dop853', nsteps=1000, first_step=1.0, atol=1.0e-10, rtol=1.0e-10)\n",
      "\n",
      "z0 = (R_c, v_c)   # Initial conditions at the condensation radius\n",
      "t0 = 0.0          # Start at t=0\n",
      "wind.set_initial_value(z0, t0)\n",
      "wind.set_f_params([Mass, R_c, gamma])\n",
      "dt = 1.0e5         # Time step size\n",
      "#t_max = 1.0e8    # End time\n",
      "\n",
      "\n",
      "t = np.array([0.0])\n",
      "r = np.array([R_c])\n",
      "v = np.array([v_c])\n",
      "\n",
      "# Run integrator\n",
      "while wind.successful() and wind.y[0] < 100.0*AUincm:\n",
      "    wind.integrate(wind.t+dt)\n",
      "\n",
      "    t = np.append(t, wind.t)\n",
      "    r = np.append(r, wind.y[0])\n",
      "    v = np.append(v, wind.y[1])\n",
      "    \n",
      "   \n",
      "# Final wind velocity\n",
      "v_f = wind.y[1]"
     ],
     "language": "python",
     "metadata": {},
     "outputs": [],
     "prompt_number": 8
    },
    {
     "cell_type": "code",
     "collapsed": false,
     "input": [
      "plt.plot(r/AUincm, v/1.0e5)\n",
      "\n",
      "plt.xlabel(\"Distance (AU)\")\n",
      "plt.ylabel(\"Wind Velocity (km/s)\")\n",
      "\n",
      "plt.show()"
     ],
     "language": "python",
     "metadata": {},
     "outputs": [
      {
       "metadata": {},
       "output_type": "display_data",
       "png": "[encoded data removed]",
       "text": [
        "<matplotlib.figure.Figure at 0x10b908e50>"
       ]
      }
     ],
     "prompt_number": 9
    },
    {
     "cell_type": "heading",
     "level": 3,
     "metadata": {},
     "source": [
      "Now, we can calculated the fraction of mass lost that is accreted by a companion at 100 AU"
     ]
    },
    {
     "cell_type": "code",
     "collapsed": false,
     "input": [
      "A = 90.0 * AUincm  # 100 AU - Binary separation \n",
      "M_1 = 3.3 * Msun\n",
      "M_2 = 4.5 * Msun    # 4.0 Msun - Companion mass\n",
      "M_2_WD = 0.837 * Msun\n",
      "v_f = 10.0 * 1.0e5  # Wind velocity\n",
      "\n",
      "# Orbital velocity\n",
      "v_orb = np.sqrt(G * (M_1 + M_2) / A)\n",
      "\n",
      "# Bondi radius\n",
      "r_bondi = 2.0 * G * M_1 / (v_f**2 + v_orb**2) \n",
      "\n",
      "# Fraction of sky subtended\n",
      "f = r_bondi*r_bondi / (4.0 * A*A)\n",
      "\n",
      "print \"Orbital velocity:\", int(v_orb/1.0e5*100.0)/100.0, \"km/s\"\n",
      "print \"Bondi radius:\", int(r_bondi/AUincm*100.0)/100.0, \"AU\"\n",
      "print \"Mass fraction accreted:\", f\n",
      "print \"Amount of mass lost by donor:\", (M_2 - M_2_WD) / Msun\n",
      "print \"Amount of mass accreted:\", f*(M_2 - M_2_WD) / Msun"
     ],
     "language": "python",
     "metadata": {},
     "outputs": [
      {
       "output_type": "stream",
       "stream": "stdout",
       "text": [
        "Orbital velocity: 8.76 km/s\n",
        "Bondi radius: 33.1 AU\n",
        "Mass fraction accreted: 0.0338261687491\n",
        "Amount of mass lost by donor: 3.663\n",
        "Amount of mass accreted: 0.123905256128\n"
       ]
      }
     ],
     "prompt_number": 23
    },
    {
     "cell_type": "heading",
     "level": 3,
     "metadata": {},
     "source": [
      "We repeat the same calculation, but for later in the evolution, once star 1 is a WD"
     ]
    },
    {
     "cell_type": "code",
     "collapsed": false,
     "input": [
      "A = 170.0 * AUincm  # 100 AU - Binary separation \n",
      "M_1 = 0.837 * Msun\n",
      "M_2 = 3.3 * Msun    # 4.0 Msun - Companion mass\n",
      "M_2_WD = 0.702 * Msun\n",
      "\n",
      "# Orbital velocity\n",
      "v_orb = np.sqrt(G * (M_1 + M_2) / A)\n",
      "\n",
      "# Bondi radius\n",
      "r_bondi = 2.0 * G * M_1 / (v_f**2 + v_orb**2) \n",
      "\n",
      "# Fraction of sky subtended\n",
      "f = r_bondi*r_bondi / (4.0 * A*A)\n",
      "\n",
      "print \"Orbital velocity:\", int(v_orb/1.0e5*100.0)/100.0, \"km/s\"\n",
      "print \"Bondi radius:\", int(r_bondi/AUincm*100.0)/100.0, \"AU\"\n",
      "print \"Mass fraction accreted:\", f\n",
      "print \"Amount of mass lost by donor:\", (M_2 - M_2_WD) / Msun\n",
      "print \"Amount of mass accreted:\", f*(M_2 - M_2_WD) / Msun"
     ],
     "language": "python",
     "metadata": {},
     "outputs": [
      {
       "output_type": "stream",
       "stream": "stdout",
       "text": [
        "Orbital velocity: 4.64 km/s\n",
        "Bondi radius: 12.21 AU\n",
        "Mass fraction accreted: 0.00129095198611\n",
        "Amount of mass lost by donor: 2.598\n",
        "Amount of mass accreted: 0.00335389325992\n"
       ]
      }
     ],
     "prompt_number": 24
    },
    {
     "cell_type": "code",
     "collapsed": false,
     "input": [],
     "language": "python",
     "metadata": {},
     "outputs": []
    }
   ],
   "metadata": {}
  }
 ]
}